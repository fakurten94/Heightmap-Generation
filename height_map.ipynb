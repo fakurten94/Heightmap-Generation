{
 "cells": [
  {
   "cell_type": "markdown",
   "id": "86285074-f9d3-4c11-a5e2-330c66d42e8b",
   "metadata": {},
   "source": [
    "# Create Heightmap from source DEM"
   ]
  },
  {
   "cell_type": "markdown",
   "id": "2c150b97-f630-4772-bf98-4cdd94add518",
   "metadata": {},
   "source": [
    "## Setting up the Environment"
   ]
  },
  {
   "cell_type": "markdown",
   "id": "c6dc38d9-2de0-4441-a949-05455914264b",
   "metadata": {},
   "source": [
    "Before you can run the notebook, one must first create the environment with the necessary dependencies.\n",
    "\n",
    "If you don't have `Git`, download it selecting the appropriate OS on your machine: https://git-scm.com/downloads. If you are using Windows, click on the `Click here to download` link to download the most up to date version.\n",
    "\n",
    "As well, if you don't have `Anaconda`, download it following this link: https://www.anaconda.com/download/success.\n",
    "\n",
    "Having `Git` and `Anaconda` downloaded follow the steps outlined:\n",
    "\n",
    "- Open a command line terminal and change the working directory to where you want your height map outputted.\n",
    "- Run the following command: `git clone https://github.com/fakurten94/Heightmap-Generation`\n",
    "- Having the `Heightmap-Generation` folder downloaded, go to the command line (if using Windows switch to an Anaconda prompt) and run `cd Heightmap-Generation`\n",
    "- Run `conda env create -n name_of_environment_you_want --file environment.yml`. This step may take up to an hour to complete.\n",
    "- Once the environment is created, in the terminal (or Anaconda Prompt if in Windows) run `conda activate name_of_environment_you_created`\n",
    "- Run `pip install localtileserver`\n",
    "- Finally run `jupyter notebook`\n",
    "- If a web server was not open using the last command or gave you an error in the terminal run `pip install jupyter notebook`.\n",
    "\n",
    "After following all steps, you may proceed to the next section."
   ]
  },
  {
   "cell_type": "markdown",
   "id": "acf85072-e799-46ee-b90b-3e49c8fc0e6a",
   "metadata": {},
   "source": [
    "## Importing the Python Libraries"
   ]
  },
  {
   "cell_type": "code",
   "execution_count": null,
   "id": "c1935a87",
   "metadata": {},
   "outputs": [],
   "source": [
    "import copy\n",
    "import geopandas as gpd\n",
    "import ipyleaflet\n",
    "import ipywidgets as widgets\n",
    "import json\n",
    "import math\n",
    "import matplotlib\n",
    "import matplotlib.pyplot as plt\n",
    "import numpy as np\n",
    "import os\n",
    "import warnings\n",
    "from osgeo import gdal\n",
    "import pdal\n",
    "import pyproj\n",
    "import requests\n",
    "from shapely.geometry import shape, Point, Polygon\n",
    "from shapely.ops import transform\n",
    "import folium\n",
    "import rasterio\n",
    "from localtileserver import TileClient, get_leaflet_tile_layer\n",
    "from localtileserver import examples, helpers\n",
    "from ipyleaflet import Map, SplitMapControl"
   ]
  },
  {
   "cell_type": "markdown",
   "id": "17ee20dc-7270-4d59-8c4f-1b571cd9c8e2",
   "metadata": {},
   "source": [
    "## Converting a ROI of a DEM to a 16-bit Grayscale PNG"
   ]
  },
  {
   "cell_type": "markdown",
   "id": "0cc76c92-c45a-43c0-8def-b3716f3cae71",
   "metadata": {},
   "source": [
    "This notebook was designed for a user to define the region of interest from a DEM and be able to export it into a 16 bit png. \n",
    "\n",
    "Please run all the following code cells in this notebook."
   ]
  },
  {
   "cell_type": "markdown",
   "id": "0d65411f-d4b7-4dae-a64d-8f31af529294",
   "metadata": {},
   "source": [
    "The following code cell is defining some of the functions that are going to be used in the notebook."
   ]
  },
  {
   "cell_type": "code",
   "execution_count": null,
   "id": "cc5e1a0d-5125-4716-b190-ff432a01b7aa",
   "metadata": {},
   "outputs": [],
   "source": [
    "def handle_draw(target, action, geo_json):\n",
    "    user_ROI.append(geo_json)\n",
    "\n",
    "def heightmap_generation(roi):\n",
    "    aoi_bounds = roi[0][\"geometry\"][\"coordinates\"][0][:-1]\n",
    "    top_left,bottom_right = aoi_bounds[1],aoi_bounds[3]\n",
    "    tl_crs = transformer_latlong_crs.transform(top_left[1],top_left[0])\n",
    "    br_crs = transformer_latlong_crs.transform(bottom_right[1],bottom_right[0])\n",
    "    \n",
    "    window = (tl_crs[0],tl_crs[1],br_crs[0],br_crs[1])\n",
    "    \n",
    "    options = gdal.TranslateOptions(format='GTiff', projWin=window)\n",
    "    gdal.Translate(f\"{output_file.split('.')[0]}_temp.tif\",input_file,options=options)\n",
    "    \n",
    "    with rasterio.open(f\"{output_file.split('.')[0]}_temp.tif\") as f:\n",
    "        arr = f.read(1)\n",
    "        min_val, max_val = int(np.min(arr)), int(np.max(arr))\n",
    "    \n",
    "    cli = f\"gdal_translate -co WORLDFILE=YES -ot UInt16 -scale {min_val} {max_val} 0 65536 {output_file.split('.')[0]}_temp.tif {output_file}\"\n",
    "    os.system(cli)\n",
    "\n",
    "def fxn():\n",
    "    warnings.warn(\"No overview\",NoOverviewWarning)\n",
    "\n",
    "def display_dem(input_file):\n",
    "    user_AOI = []\n",
    "    client = TileClient(input_file)\n",
    "    layer = get_leaflet_tile_layer(client,name=input_file.split(\".\")[0])\n",
    "    \n",
    "    m = ipyleaflet.Map(name=input_file,center=client.center(), zoom=client.default_zoom)\n",
    "    m.add(layer)\n",
    "    \n",
    "    control = ipyleaflet.LayersControl(position='topright')\n",
    "    dc = ipyleaflet.DrawControl(\n",
    "        polygon={},\n",
    "        rectangle={\"pathOptions\": {\"color\": \"blue\"}},\n",
    "        circlemarker={},\n",
    "        polyline={}\n",
    "    )\n",
    "    dc.on_draw(handle_draw)\n",
    "    m.add(control)\n",
    "    m.add_control(dc)\n",
    "    \n",
    "    print(\"Please select the ROI using the Rectangle command on the left side of the map.\")\n",
    "    display(m)\n",
    "    warnings.filterwarnings('ignore')\n",
    "\n",
    "\n",
    "def display_raster(output_file):\n",
    "    client_ = TileClient(output_file)\n",
    "    tdem = get_leaflet_tile_layer(client_, colormap='gray', nodata=0)\n",
    "    dem = client_.dataset.read()[0, :, :]\n",
    "    \n",
    "    hs_arr = helpers.hillshade(dem)\n",
    "    \n",
    "    hs = rasterio.open(helpers.save_new_raster(client_, hs_arr))\n",
    "    hst = get_leaflet_tile_layer(hs, nodata=0)\n",
    "    \n",
    "    d = client_.get_leaflet_map()\n",
    "    control = SplitMapControl(left_layer=tdem, right_layer=hst)\n",
    "    d.add_control(control)\n",
    "    display(d)\n",
    "\n",
    "def colorbar_scale(output_file):\n",
    "    with rasterio.open(f\"{output_file.split('.')[0]}_temp.tif\") as src:\n",
    "        arr = src.read(1)\n",
    "        min_val, max_val = int(np.min(arr)), int(np.max(arr))\n",
    "        print(f\"The minimum value is {min_val} and the maximum value is {max_val}\")\n",
    "        plt.figure(figsize=(8,8))\n",
    "        plt.imshow(src.read(1), cmap='gray');\n",
    "        x = plt.colorbar();\n",
    "        x.set_ticks([min_val,max_val])\n",
    "        ax = plt.gca()\n",
    "        ax.get_xaxis().set_visible(False)\n",
    "        ax.get_yaxis().set_visible(False)\n",
    "        plt.show();"
   ]
  },
  {
   "cell_type": "markdown",
   "id": "a7554997-9678-4a11-8215-56f272f40d57",
   "metadata": {},
   "source": [
    "In this next cell, please provide the names of the input and output files. On the output file type the `.png` extension."
   ]
  },
  {
   "cell_type": "code",
   "execution_count": null,
   "id": "22e79966-078f-450e-b0db-f5181f5bf46a",
   "metadata": {
    "scrolled": true
   },
   "outputs": [],
   "source": [
    "input_file = input(\"Please provide the input file name and location (Ex:'data/DEM.tif')\")\n",
    "output_file = input(\"Please provide the output file name and location (Ex:'data/DEM.png')\")"
   ]
  },
  {
   "cell_type": "code",
   "execution_count": null,
   "id": "b99a200b-22ca-4e5c-bc38-e47ddc8c29e3",
   "metadata": {},
   "outputs": [],
   "source": [
    "with rasterio.open(input_file) as dataset:\n",
    "    crs = str(dataset.crs)\n",
    "\n",
    "transformer_latlong_crs = pyproj.Transformer.from_crs(\"EPSG:4326\",crs)\n",
    "transformer_crs_latlong = pyproj.Transformer.from_crs(crs,\"EPSG:4326\")"
   ]
  },
  {
   "cell_type": "markdown",
   "id": "90f23bd8-ef11-45a8-984e-bcdcec75d277",
   "metadata": {},
   "source": [
    "The next code cell will display the input DEM provided and a ROI can be selected using the commands on the left side of the map. This may take a while depending on the size of the DEM."
   ]
  },
  {
   "cell_type": "code",
   "execution_count": null,
   "id": "a0cb1e13-f3bb-48cb-9411-44e48e576b69",
   "metadata": {},
   "outputs": [],
   "source": [
    "user_ROI = []\n",
    "display_dem(input_file)"
   ]
  },
  {
   "cell_type": "markdown",
   "id": "b2cc4de1-0962-4d36-a783-7f22ad1a7d66",
   "metadata": {},
   "source": [
    "The following cell will grab the ROI selected above and will generate the 16 bit PNG file."
   ]
  },
  {
   "cell_type": "code",
   "execution_count": null,
   "id": "25b3c212-91ad-47ad-8a26-f9819d977670",
   "metadata": {},
   "outputs": [],
   "source": [
    "assert user_ROI != [], \"Please select a ROI before running this code cell.\"\n",
    "heightmap_generation(user_ROI)"
   ]
  },
  {
   "cell_type": "markdown",
   "id": "86d30740-a471-4705-a2f0-4c1edec9c48f",
   "metadata": {},
   "source": [
    "The generated file will be displayed here in this map along with the corresponding hillshade. One will be able to compare both by dragging the control to the left or right. "
   ]
  },
  {
   "cell_type": "code",
   "execution_count": null,
   "id": "53ca9db6-dd00-48f8-b362-ab36d74da462",
   "metadata": {
    "scrolled": true
   },
   "outputs": [],
   "source": [
    "display_raster(output_file)"
   ]
  },
  {
   "cell_type": "markdown",
   "id": "fd8e938e-53fb-44ea-ab8b-0352929ed761",
   "metadata": {},
   "source": [
    "If the display of the above cell is somewhere off the coast of Africa, rerun the notebook **after** following the outlined step below.\n",
    "\n",
    "- If on Windows run on the Osgeo Shell `set GDAL_PAM_ENABLED=YES`\n",
    "- If on Linux or Mac run on the terminal `export GDAL_PAM_ENABLED=YES`"
   ]
  },
  {
   "cell_type": "markdown",
   "id": "276d0ba5-b9f2-4d91-a824-053226f5488b",
   "metadata": {},
   "source": [
    "The next cell will display the min and max elevations in the selected ROI."
   ]
  },
  {
   "cell_type": "code",
   "execution_count": null,
   "id": "40f1308b-5ab8-44e1-8bbc-dc03bed27835",
   "metadata": {},
   "outputs": [],
   "source": [
    "colorbar_scale(output_file)"
   ]
  },
  {
   "cell_type": "markdown",
   "id": "ef9122b1-cff1-480a-8544-23651805bb1b",
   "metadata": {},
   "source": [
    "Run the next cell to verify that the selected ROI does not have no no data values. If the output displays `There are X no data values in output file` please reselect the ROI from the beginning. **Important: Restart the kernel if attempting to reselect a different ROI.**"
   ]
  },
  {
   "cell_type": "code",
   "execution_count": null,
   "id": "92507e71-ec33-4db8-89c8-1874a063d890",
   "metadata": {},
   "outputs": [],
   "source": [
    "with rasterio.open(output_file) as f:\n",
    "    arr = f.read(1)\n",
    "    mask = (arr != f.nodata)\n",
    "    elev = arr[mask]\n",
    "    if arr[arr==f.nodata].shape[0] == 0: print(\"No no data values found in the output file.\")\n",
    "    else: print(f'There are {arr[arr==f.nodata].shape[0]} no data values in the output file. Please reselect ROI.')"
   ]
  }
 ],
 "metadata": {
  "kernelspec": {
   "display_name": "Python 3 (ipykernel)",
   "language": "python",
   "name": "python3"
  },
  "language_info": {
   "codemirror_mode": {
    "name": "ipython",
    "version": 3
   },
   "file_extension": ".py",
   "mimetype": "text/x-python",
   "name": "python",
   "nbconvert_exporter": "python",
   "pygments_lexer": "ipython3",
   "version": "3.10.9"
  }
 },
 "nbformat": 4,
 "nbformat_minor": 5
}
